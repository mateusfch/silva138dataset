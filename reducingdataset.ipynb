{
  "nbformat": 4,
  "nbformat_minor": 0,
  "metadata": {
    "colab": {
      "provenance": [],
      "authorship_tag": "ABX9TyMi80ZB65Ej3ElOJhR8o9lw",
      "include_colab_link": true
    },
    "kernelspec": {
      "name": "python3",
      "display_name": "Python 3"
    },
    "language_info": {
      "name": "python"
    }
  },
  "cells": [
    {
      "cell_type": "markdown",
      "metadata": {
        "id": "view-in-github",
        "colab_type": "text"
      },
      "source": [
        "<a href=\"https://colab.research.google.com/github/mateusfch/silva138dataset/blob/main/reducingdataset.ipynb\" target=\"_parent\"><img src=\"https://colab.research.google.com/assets/colab-badge.svg\" alt=\"Open In Colab\"/></a>"
      ]
    },
    {
      "cell_type": "markdown",
      "source": [
        "# Conectando notebook com a conta do Google Drive..."
      ],
      "metadata": {
        "id": "wsdpy5yPpQzY"
      }
    },
    {
      "cell_type": "code",
      "source": [
        "from google.colab import drive\n",
        "drive.mount('/content/drive')"
      ],
      "metadata": {
        "colab": {
          "base_uri": "https://localhost:8080/"
        },
        "id": "DNTnKuA2pJ7X",
        "outputId": "b7d5dabd-f9c9-4c05-d511-ac362280a7dd"
      },
      "execution_count": 10,
      "outputs": [
        {
          "output_type": "stream",
          "name": "stdout",
          "text": [
            "Mounted at /content/drive\n"
          ]
        }
      ]
    },
    {
      "cell_type": "markdown",
      "source": [
        "# Instalando pacotes..."
      ],
      "metadata": {
        "id": "f-VWT_-Ql6yP"
      }
    },
    {
      "cell_type": "code",
      "source": [
        "!pip install biopython\n",
        "!pip install pandas\n",
        "!pip install collection"
      ],
      "metadata": {
        "id": "9D8OpHT8l4lt"
      },
      "execution_count": null,
      "outputs": []
    },
    {
      "cell_type": "markdown",
      "source": [
        "# Importações..."
      ],
      "metadata": {
        "id": "1-wTuwDZlLRM"
      }
    },
    {
      "cell_type": "code",
      "source": [
        "import pandas as pd\n",
        "from functools import partial, partialmethod\n",
        "from Bio import SeqIO\n",
        "from collections import defaultdict\n"
      ],
      "metadata": {
        "id": "OD_Vq8XWlQIO"
      },
      "execution_count": 9,
      "outputs": []
    },
    {
      "cell_type": "markdown",
      "source": [
        "#Função para ler e escrever arquivos .tsv (do arquivo de taxonomia)...\n",
        "\n",
        "\n"
      ],
      "metadata": {
        "id": "h3drt2Bwm6ED"
      }
    },
    {
      "cell_type": "code",
      "source": [
        "pd.read_tsv = partial(pd.read_csv, sep='\\t')\n",
        "pd.DataFrame.to_tsv = partialmethod(pd.DataFrame.to_csv, sep='\\t', index=False)"
      ],
      "metadata": {
        "id": "B70Sb3H_m1q_"
      },
      "execution_count": 11,
      "outputs": []
    },
    {
      "cell_type": "markdown",
      "source": [
        "# FASTA SEQUENCIAS DE DNA...\n",
        "Converte em dataframe um arquivo fasta\n"
      ],
      "metadata": {
        "id": "JaSrG7ZVnhT9"
      }
    },
    {
      "cell_type": "code",
      "source": [
        "sequences = []\n",
        "for record in SeqIO.parse(\"/content/drive/My Drive/dna-sequences.fasta\", \"fasta\"):\n",
        "    sequences.append([record.id, str(record.seq)])\n",
        "\n",
        "dna_sequences = pd.DataFrame(sequences, columns=[\"id\", \"sequence\"])"
      ],
      "metadata": {
        "id": "JjlBhthmnb3r"
      },
      "execution_count": 17,
      "outputs": []
    },
    {
      "cell_type": "markdown",
      "source": [
        "# TSV TAXONOMIA...\n",
        "Para ler o arquivo de taxonomia como um dataframe"
      ],
      "metadata": {
        "id": "lAratqbMn3sB"
      }
    },
    {
      "cell_type": "code",
      "source": [
        "tax = pd.read_tsv('/content/drive/My Drive/taxonomy.tsv')"
      ],
      "metadata": {
        "id": "_abP8TAVn2j6"
      },
      "execution_count": 31,
      "outputs": []
    },
    {
      "cell_type": "markdown",
      "source": [
        "## Selecionar amostras taxônomicas aleatórias de organismos rotulados e fazer a intersecção com o dataframe contendo a sequência de DNA desses organismos..."
      ],
      "metadata": {
        "id": "PvNiPp5nPG-k"
      }
    },
    {
      "cell_type": "code",
      "source": [
        "tax_samples = tax.sample(100).reset_index(drop=True)\n",
        "merged_data = tax_samples.merge(dna_sequences, left_on='Feature ID', right_on='id')\n",
        "sampled_dna = merged_data[['id', 'sequence']]\n",
        "sampled_tax = merged_data[['Feature ID', 'Taxon']]"
      ],
      "metadata": {
        "id": "rWxYn2flL9xb"
      },
      "execution_count": 76,
      "outputs": []
    },
    {
      "cell_type": "markdown",
      "source": [
        "## Escrevendo a amostra da taxonomia sorteada em formato .tsv..."
      ],
      "metadata": {
        "id": "9sIP24HHSSKv"
      }
    },
    {
      "cell_type": "code",
      "source": [
        "sampled_tax.to_tsv('/content/drive/My Drive/TAXandDNA/sampled_tax.tsv')"
      ],
      "metadata": {
        "id": "yLa2JhZ3P9Rt"
      },
      "execution_count": 78,
      "outputs": []
    },
    {
      "cell_type": "markdown",
      "source": [
        "# Escrevendo as sequências de DNA das amostras em formato fasta..."
      ],
      "metadata": {
        "id": "U60Y03-ejK9i"
      }
    },
    {
      "cell_type": "code",
      "source": [
        "writing_fasta = \"\"\n",
        "for ind in sampled_dna.index:\n",
        "  writing_fasta += \">\" + sampled_dna['id'][ind] + \"\\n\"\n",
        "  writing_fasta += (sampled_dna['sequence'][ind]) + \"\\n\"\n",
        "\n",
        "fasta_file = open(\"/content/drive/My Drive/TAXandDNA/sampled_dna.fasta\", \"w\")\n",
        "fasta_file.write(writing_fasta)\n",
        "fasta_file.close()"
      ],
      "metadata": {
        "id": "6rfNx-mhjI34"
      },
      "execution_count": 79,
      "outputs": []
    }
  ]
}